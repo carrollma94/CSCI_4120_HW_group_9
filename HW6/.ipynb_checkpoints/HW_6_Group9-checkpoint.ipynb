{
 "cells": [
  {
   "cell_type": "markdown",
   "metadata": {},
   "source": [
    "# Homework 6\n",
    "You need to classify digits with SVM models in this homework. Use PCA to reduce data dimensionality (80% information remain). Compare performance of linear, radial, and polynomial kernals. Tune kernal parameters using Randomsearch method."
   ]
  },
  {
   "cell_type": "code",
   "execution_count": 1,
   "metadata": {},
   "outputs": [],
   "source": [
    "%matplotlib inline\n",
    "import numpy as np\n",
    "import matplotlib.pyplot as plt\n",
    "from scipy import stats\n",
    "from sklearn.svm import SVC\n",
    "from sklearn.decomposition import PCA\n",
    "from sklearn.model_selection import RandomizedSearchCV\n",
    "from sklearn.model_selection import cross_val_score\n",
    "from scipy.stats import uniform\n",
    "\n",
    "# use seaborn plotting defaults\n",
    "import seaborn as sns; sns.set()\n",
    "from sklearn import datasets, svm, metrics"
   ]
  },
  {
   "cell_type": "code",
   "execution_count": 2,
   "metadata": {},
   "outputs": [
    {
     "data": {
      "image/png": "[encoded data removed]",
      "text/plain": [
       "<Figure size 720x288 with 40 Axes>"
      ]
     },
     "metadata": {},
     "output_type": "display_data"
    }
   ],
   "source": [
    "# The digits dataset\n",
    "digits = datasets.load_digits()\n",
    "\n",
    "def plot_digits(data):\n",
    "    fig, axes = plt.subplots(4, 10, figsize=(10, 4),\n",
    "                             subplot_kw={'xticks':[], 'yticks':[]},\n",
    "                             gridspec_kw=dict(hspace=0.1, wspace=0.1))\n",
    "    for i, ax in enumerate(axes.flat):\n",
    "        ax.imshow(data[i].reshape(8, 8),\n",
    "                  cmap='binary', interpolation='nearest',\n",
    "                  clim=(0, 16))\n",
    "        \n",
    "plot_digits(digits.data)"
   ]
  },
  {
   "cell_type": "code",
   "execution_count": 3,
   "metadata": {},
   "outputs": [
    {
     "data": {
      "image/png": "[encoded data removed]",
      "text/plain": [
       "<Figure size 720x288 with 40 Axes>"
      ]
     },
     "metadata": {},
     "output_type": "display_data"
    }
   ],
   "source": [
    "pca = PCA(0.8).fit(digits.data)\n",
    "components = pca.transform(digits.data)\n",
    "# similar to rewrite an article with high-freqency words\n",
    "filtered = pca.inverse_transform(components)\n",
    "plot_digits(filtered)\n",
    "X = filtered\n",
    "y = digits.target"
   ]
  },
  {
   "cell_type": "code",
   "execution_count": 4,
   "metadata": {},
   "outputs": [
    {
     "name": "stdout",
     "output_type": "stream",
     "text": [
      "Linear Average Score:  0.9193175487465182\n",
      "Best C Parameter for Linear:  66.7\n"
     ]
    }
   ],
   "source": [
    "params = dict(C=np.arange(0,100,.1))\n",
    "#Create SVC linear model\n",
    "#---------------------------------------------------------\n",
    "model_linear = SVC(kernel='linear')\n",
    "model_linear.fit(X, y)\n",
    "#Use RandomizedSearchCV to find best C parameter\n",
    "clf = RandomizedSearchCV(model_linear, params)\n",
    "search = clf.fit(X, y)\n",
    "C = search.best_params_['C']\n",
    "#Create SVC model for poly again with best kernel parameter\n",
    "model_linear = SVC(kernel='linear', C=C)\n",
    "#Use Cross Validation to get scores from 5 folds\n",
    "linear_scores = cross_val_score(model_linear, X, y, cv=5)\n",
    "linear_avg_score = linear_scores.mean()\n",
    "print(\"Linear Average Score: \",linear_avg_score)\n",
    "print(\"Best C Parameter for Linear: \",C)"
   ]
  },
  {
   "cell_type": "code",
   "execution_count": 5,
   "metadata": {},
   "outputs": [
    {
     "name": "stdout",
     "output_type": "stream",
     "text": [
      "Radial Average Score:  0.9660631383472609\n",
      "Best C Parameter for Radial:  21.3\n"
     ]
    }
   ],
   "source": [
    "#Create SVC radial model\n",
    "#---------------------------------------------------------\n",
    "model_radial = SVC(kernel='rbf')\n",
    "model_radial.fit(X, y)\n",
    "#Use RandomizedSearchCV to find best C parameter\n",
    "clf = RandomizedSearchCV(model_radial, params)\n",
    "search = clf.fit(X, y)\n",
    "C = search.best_params_['C']\n",
    "#Create SVC model for radial again with best kernel parameter\n",
    "model_radial = SVC(kernel='rbf', C=C)\n",
    "#Use Cross Validation to get scores from 5 folds\n",
    "radial_scores = cross_val_score(model_radial, X, y, cv=5)\n",
    "radial_avg_score = radial_scores.mean()\n",
    "print(\"Radial Average Score: \",radial_avg_score)\n",
    "print(\"Best C Parameter for Radial: \",C)"
   ]
  },
  {
   "cell_type": "code",
   "execution_count": 6,
   "metadata": {},
   "outputs": [
    {
     "name": "stdout",
     "output_type": "stream",
     "text": [
      "Poly Average Score:  0.9515985762921696\n",
      "Best C Parameter for Poly:  40.0\n"
     ]
    }
   ],
   "source": [
    "#Create SVC poly model\n",
    "#---------------------------------------------------------\n",
    "model_poly = SVC(kernel='poly')\n",
    "model_poly.fit(X, y)\n",
    "#Use RandomizedSearchCV to find best C parameter\n",
    "clf = RandomizedSearchCV(model_poly, params)\n",
    "search = clf.fit(X, y)\n",
    "C = search.best_params_['C']\n",
    "#Create SVC model for poly again with best kernel parameter\n",
    "model_poly = SVC(kernel='poly', C=C)\n",
    "#Use Cross Validation to get scores from 5 folds\n",
    "poly_scores = cross_val_score(model_poly, X, y, cv=5)\n",
    "poly_avg_score = poly_scores.mean()\n",
    "print(\"Poly Average Score: \",poly_avg_score)\n",
    "print(\"Best C Parameter for Poly: \",C)"
   ]
  },
  {
   "cell_type": "code",
   "execution_count": null,
   "metadata": {},
   "outputs": [],
   "source": []
  }
 ],
 "metadata": {
  "kernelspec": {
   "display_name": "Python 3",
   "language": "python",
   "name": "python3"
  },
  "language_info": {
   "codemirror_mode": {
    "name": "ipython",
    "version": 3
   },
   "file_extension": ".py",
   "mimetype": "text/x-python",
   "name": "python",
   "nbconvert_exporter": "python",
   "pygments_lexer": "ipython3",
   "version": "3.8.5"
  }
 },
 "nbformat": 4,
 "nbformat_minor": 5
}
