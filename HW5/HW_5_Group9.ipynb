{
 "cells": [
  {
   "cell_type": "markdown",
   "id": "bd67450b",
   "metadata": {},
   "source": [
    "# Homework 5 RF Accuracy Improvement\n",
    "\n",
    "This assignment is inspired by examples of Shan-Hung Wu from National Tsing Hua University.\n",
    "\n",
    "Requirement: improve the accuracy per feature of the following code from 0.03 up to at least 0.40 and accuracy should be more than 0.92\n",
    "\n",
    "Here are three hints:\n",
    "\n",
    "    You can improve the ratio by picking out or \"creating\" several features.\n",
    "    Tune hyperparameters\n",
    "    The ratio can be improved from 0.03 up to 0.47."
   ]
  },
  {
   "cell_type": "code",
   "execution_count": 15,
   "id": "504ef5fa",
   "metadata": {},
   "outputs": [
    {
     "name": "stdout",
     "output_type": "stream",
     "text": [
      "(569, 30)\n"
     ]
    }
   ],
   "source": [
    "from sklearn.model_selection import train_test_split\n",
    "from sklearn.datasets import load_breast_cancer\n",
    "from sklearn.metrics import accuracy_score\n",
    "from sklearn.ensemble import RandomForestClassifier\n",
    "from sklearn.metrics import confusion_matrix\n",
    "import seaborn as sns; sns.set()\n",
    "import matplotlib.pyplot as plt\n",
    "\n",
    "\n",
    "# load the breast_cancer dataset\n",
    "init_data = load_breast_cancer()\n",
    "(X, y) = load_breast_cancer(return_X_y=True)\n",
    "print(X.shape)\n",
    "\n",
    "X_train, X_test, y_train, y_test = train_test_split(X, y, random_state=0)\n",
    "model = RandomForestClassifier(n_estimators=1000)\n",
    "model.fit(X_train, y_train)\n",
    "ypred = model.predict(X_test)\n",
    "\n",
    "# TODO Select some features (X), hint: based on the connections with\n",
    "# our Y (importance? correlation?) - Matt\n",
    "\n",
    "# ['mean radius' 'mean texture' 'mean perimeter' 'mean area'\n",
    "# 'mean smoothness' 'mean compactness' 'mean concavity'\n",
    "# 'mean concave points' 'mean symmetry' 'mean fractal dimension'\n",
    "# 'radius error' 'texture error' 'perimeter error' 'area error'\n",
    "# 'smoothness error' 'compactness error' 'concavity error'\n",
    "# 'concave points error' 'symmetry error' 'fractal dimension error'\n",
    "# 'worst radius' 'worst texture' 'worst perimeter' 'worst area'\n",
    "# 'worst smoothness' 'worst compactness' 'worst concavity'\n",
    "# 'worst concave points' 'worst symmetry' 'worst fractal dimension']\n",
    "\n",
    "\n",
    "# TODO need 5 fold cross validation -Mark\n",
    "\n",
    "# TODO Tune parameters for RandomForestClassifier- Kevin\n",
    "\n",
    "# TODO Calculate Average accuracy score -Mark\n",
    "\n",
    "# TODO Calculate Average (accuracy score/number of features) - Mark"
   ]
  },
  {
   "cell_type": "code",
   "execution_count": null,
   "id": "ea33de42",
   "metadata": {},
   "outputs": [],
   "source": []
  },
  {
   "cell_type": "code",
   "execution_count": null,
   "id": "11f92d83",
   "metadata": {},
   "outputs": [],
   "source": []
  }
 ],
 "metadata": {
  "kernelspec": {
   "display_name": "Python 3",
   "language": "python",
   "name": "python3"
  },
  "language_info": {
   "codemirror_mode": {
    "name": "ipython",
    "version": 3
   },
   "file_extension": ".py",
   "mimetype": "text/x-python",
   "name": "python",
   "nbconvert_exporter": "python",
   "pygments_lexer": "ipython3",
   "version": "3.6.9"
  }
 },
 "nbformat": 4,
 "nbformat_minor": 5
}
