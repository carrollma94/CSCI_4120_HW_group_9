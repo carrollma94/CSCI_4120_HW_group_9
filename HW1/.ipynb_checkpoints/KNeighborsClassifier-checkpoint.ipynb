{
 "cells": [
  {
   "cell_type": "code",
   "execution_count": 30,
   "id": "920dd5a7",
   "metadata": {},
   "outputs": [
    {
     "name": "stdout",
     "output_type": "stream",
     "text": [
      "['Iris-setosa' 'Iris-setosa' 'Iris-versicolor' 'Iris-versicolor'\n",
      " 'Iris-versicolor' 'Iris-versicolor' 'Iris-setosa' 'Iris-setosa'\n",
      " 'Iris-setosa' 'Iris-versicolor' 'Iris-versicolor' 'Iris-versicolor'\n",
      " 'Iris-versicolor' 'Iris-setosa' 'Iris-setosa' 'Iris-setosa' 'Iris-setosa'\n",
      " 'Iris-setosa' 'Iris-setosa' 'Iris-versicolor' 'Iris-setosa' 'Iris-setosa'\n",
      " 'Iris-setosa' 'Iris-versicolor' 'Iris-setosa' 'Iris-versicolor'\n",
      " 'Iris-setosa' 'Iris-versicolor' 'Iris-versicolor' 'Iris-versicolor'\n",
      " 'Iris-versicolor' 'Iris-versicolor' 'Iris-versicolor' 'Iris-versicolor'\n",
      " 'Iris-setosa' 'Iris-versicolor' 'Iris-versicolor' 'Iris-versicolor'\n",
      " 'Iris-setosa' 'Iris-versicolor' 'Iris-setosa' 'Iris-versicolor'\n",
      " 'Iris-versicolor' 'Iris-versicolor' 'Iris-versicolor' 'Iris-setosa'\n",
      " 'Iris-setosa' 'Iris-versicolor' 'Iris-versicolor' 'Iris-versicolor'\n",
      " 'Iris-versicolor']\n",
      "0.803921568627451\n"
     ]
    }
   ],
   "source": [
    "import pandas as pd\n",
    "import random\n",
    "from sklearn.neighbors import KNeighborsClassifier, NearestNeighbors\n",
    "from sklearn import neighbors, datasets\n",
    "import numpy as np\n",
    "import random\n",
    "url = 'https://raw.githubusercontent.com/ruiwu1990/CSCI_4120/master/KNN/iris.data'\n",
    "\n",
    "def loadDataset(filename, split):\n",
    "\ttrainingSet=[]\n",
    "\ttestSet=[]\n",
    "\tdf = pd.read_csv(url, header=None)\n",
    "\tarray = df.to_numpy()\n",
    "\trandom.shuffle(array)\n",
    "\ttraining_len = int(len(array)*split)\n",
    "\ttrainingSet = array[:training_len]\n",
    "\ttestSet = array[training_len:]\n",
    "\treturn trainingSet, testSet\n",
    "\n",
    "def main():\n",
    "\t##TODO are we taking the data properly?   \n",
    "\t# prepare data\n",
    "\ttrainingSet=[]\n",
    "\ttestSet=[]\n",
    "\tsplit = 0.66\n",
    "\n",
    "\ttrainingSet, testSet = loadDataset(url, split)\n",
    "\t# import some data to play with\n",
    "\t#iris = datasets.load_iris()\n",
    "\t# we only take the first two features. We could avoid this ugly\n",
    "\t# slicing by using a two-dim dataset\n",
    "\tscores = []\n",
    "\tX = trainingSet[:, :4]\n",
    "\ty = trainingSet[:, 4:] \n",
    "\t##TODO implement multiple k's (for loop?)\n",
    "\tneigh = KNeighborsClassifier(n_neighbors = 15, p=2)\n",
    "\tneigh.fit(X, np.ravel(y))\n",
    "\ttestSetNoLabel = testSet[:, :4]\n",
    "\ttestSetLabels = testSet[:, 4:]\n",
    "\tprint(neigh.predict(testSetNoLabel))\n",
    "\tprint(neigh.score(testSetNoLabel, testSetLabels))    \n",
    "\t#accuracy = getAccuracy(testSet, predictions)\n",
    "\t#print('Accuracy: ' + repr(accuracy) + '%')\n",
    "\t#neigh.predict(X)\n",
    "\t#print(neigh.score(X, y))\n",
    "\t#scores.append(neigh.score(X, y))\n",
    "\t##TODO setup plot\n",
    "\tplotX = [1,2,3,4,5,6,7,8,9,10,11,12,13,14]\n",
    "\tplotY = scores\n",
    "\n",
    "main()"
   ]
  },
  {
   "cell_type": "code",
   "execution_count": null,
   "id": "562311f2",
   "metadata": {},
   "outputs": [],
   "source": []
  },
  {
   "cell_type": "code",
   "execution_count": null,
   "id": "8cfeab0d",
   "metadata": {},
   "outputs": [],
   "source": []
  },
  {
   "cell_type": "code",
   "execution_count": null,
   "id": "e6db2f6c",
   "metadata": {},
   "outputs": [],
   "source": []
  }
 ],
 "metadata": {
  "kernelspec": {
   "display_name": "Python 3",
   "language": "python",
   "name": "python3"
  },
  "language_info": {
   "codemirror_mode": {
    "name": "ipython",
    "version": 3
   },
   "file_extension": ".py",
   "mimetype": "text/x-python",
   "name": "python",
   "nbconvert_exporter": "python",
   "pygments_lexer": "ipython3",
   "version": "3.6.9"
  }
 },
 "nbformat": 4,
 "nbformat_minor": 5
}
