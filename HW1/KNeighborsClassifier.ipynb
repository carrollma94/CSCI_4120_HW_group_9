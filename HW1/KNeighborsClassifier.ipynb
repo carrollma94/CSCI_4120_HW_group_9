{
 "cells": [
  {
   "cell_type": "code",
   "execution_count": 2,
   "id": "920dd5a7",
   "metadata": {},
   "outputs": [
    {
     "data": {
      "image/png": "[encoded data removed]",
      "text/plain": [
       "<Figure size 432x288 with 1 Axes>"
      ]
     },
     "metadata": {
      "needs_background": "light"
     },
     "output_type": "display_data"
    }
   ],
   "source": [
    "\"\"\"\n",
    "Project: Homework 1, KNeighborsClassifier\n",
    "\n",
    "Authors:\n",
    "Matthew Carroll\n",
    "Mark Carroll\n",
    "Kevin Boyle\n",
    "\n",
    "Purpose:\n",
    "Perform KNN algorithm on iris data set for k values from 1 to 20.\n",
    "Plot accuracy for each corresonding to each k value\n",
    "\"\"\"\n",
    "\n",
    "import pandas as pd\n",
    "import random\n",
    "import matplotlib.pyplot as plt\n",
    "from sklearn.neighbors import KNeighborsClassifier\n",
    "\n",
    "# Function to grab dataset and divide data into test and trainging set\n",
    "def loadDataset(url, split):\n",
    "\ttrainingSet=[]\n",
    "\ttestSet=[]\n",
    "\tdf = pd.read_csv(url, header=None)\n",
    "\tarray = df.to_numpy()\n",
    "\trandom.shuffle(array)\n",
    "\ttraining_len = int(len(array)*split)\n",
    "\ttrainingSet = array[:training_len]\n",
    "\ttestSet = array[training_len:]\n",
    "\treturn trainingSet, testSet\n",
    "\n",
    "def main():\n",
    "    # prepare data\n",
    "    trainingSet = []\n",
    "    testSet = []\n",
    "    split = 0.67\n",
    "    url = \"https://raw.githubusercontent.com/ruiwu1990/CSCI_4120/master/KNN/iris.data\"\n",
    "    # Create training and test data sets\n",
    "    trainingSet, testSet = loadDataset(url, split)\n",
    "    X = trainingSet[:, :4]\n",
    "    y = trainingSet[:, 4]\n",
    "    scores = []\n",
    "    kValues = []\n",
    "    k = 1\n",
    "    # While loop to iterate through k values from 1 to 20\n",
    "    while k <= 20:\n",
    "        sum = 0\n",
    "        samples = 5\n",
    "        # For loop to create model for each k value for 5 samples then average the samples together\n",
    "        for i in range(samples):\n",
    "            neigh = KNeighborsClassifier(n_neighbors=k)\n",
    "            neigh.fit(X, y)\n",
    "            expected = neigh.predict(testSet[:, :4])\n",
    "            sum += neigh.score(testSet[:, :4], testSet[:, 4])\n",
    "        # Append k and accuracy to lists\n",
    "        kValues.append(k)\n",
    "        scores.append(sum/samples)\n",
    "        k += 1\n",
    "    # Plot k values and corresponding accuracy\n",
    "    plt.plot(kValues, scores)\n",
    "    plt.xlabel(\"Number of Neighbors\")\n",
    "    plt.ylabel(\"Accuracy of KNN\")\n",
    "    plt.title(\"KNN Model Comparing Number of Neighbors and Accuracy of Classification\")\n",
    "    plt.show()\n",
    "\n",
    "main()"
   ]
  }
 ],
 "metadata": {
  "kernelspec": {
   "display_name": "Python 3",
   "language": "python",
   "name": "python3"
  },
  "language_info": {
   "codemirror_mode": {
    "name": "ipython",
    "version": 3
   },
   "file_extension": ".py",
   "mimetype": "text/x-python",
   "name": "python",
   "nbconvert_exporter": "python",
   "pygments_lexer": "ipython3",
   "version": "3.6.9"
  }
 },
 "nbformat": 4,
 "nbformat_minor": 5
}
