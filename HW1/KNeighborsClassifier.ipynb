{
 "cells": [
  {
   "cell_type": "code",
   "execution_count": 31,
   "id": "920dd5a7",
   "metadata": {},
   "outputs": [
    {
     "name": "stdout",
     "output_type": "stream",
     "text": [
      "0.8733333333333333\n"
     ]
    }
   ],
   "source": [
    "import pandas as pd\n",
    "import random\n",
    "from sklearn.neighbors import KNeighborsClassifier, NearestNeighbors\n",
    "from sklearn import neighbors, datasets\n",
    "\n",
    "'''\n",
    "def loadDataset(filename, split):\n",
    "\ttrainingSet=[]\n",
    "\ttestSet=[]\n",
    "\tdf = pd.read_csv(url, header=None)\n",
    "\tarray = df.to_numpy()\n",
    "\trandom.shuffle(array)\n",
    "\ttraining_len = int(len(array)*split)\n",
    "\ttrainingSet = array[:training_len]\n",
    "\ttestSet = array[training_len:]\n",
    "\treturn trainingSet, testSet\n",
    "'''\n",
    "def main():\n",
    "\t# prepare data\n",
    "\ttrainingSet=[]\n",
    "\ttestSet=[]\n",
    "\tsplit = 0.67\n",
    "\turl = 'https://raw.githubusercontent.com/ruiwu1990/CSCI_4120/master/KNN/iris.data'\n",
    "\ttrainingSet, testSet = loadDataset(url, 0.66)\n",
    "\n",
    "    ##TODO are we taking the data properly?\n",
    "    \n",
    "    # import some data to play with\n",
    "\tiris = datasets.load_iris()\n",
    "\n",
    "# we only take the first two features. We could avoid this ugly\n",
    "# slicing by using a two-dim dataset\n",
    "\tscores = []\n",
    "\tX = iris.data[:, :2]\n",
    "\ty = iris.target\n",
    "    ##TODO implement multiple k's (for loop?)\n",
    "\tneigh = KNeighborsClassifier(n_neighbors = 2, p=2)\n",
    "\tneigh.fit(X, y)\n",
    "\tneigh.predict(X)\n",
    "\tprint(neigh.score(X, y))\n",
    "\tscores.append(neigh.score(X, y))\n",
    "    ##TODO setup plot\n",
    "\tplotX = [1,2,3,4,5,6,7,8,9,10,11,12,13,14]\n",
    "\tplotY = scores\n",
    "\n",
    "main()"
   ]
  },
  {
   "cell_type": "code",
   "execution_count": null,
   "id": "562311f2",
   "metadata": {},
   "outputs": [],
   "source": []
  },
  {
   "cell_type": "code",
   "execution_count": null,
   "id": "7b938daa",
   "metadata": {},
   "outputs": [],
   "source": []
  },
  {
   "cell_type": "code",
   "execution_count": null,
   "id": "b5abe805",
   "metadata": {},
   "outputs": [],
   "source": []
  }
 ],
 "metadata": {
  "kernelspec": {
   "display_name": "Python 3",
   "language": "python",
   "name": "python3"
  },
  "language_info": {
   "codemirror_mode": {
    "name": "ipython",
    "version": 3
   },
   "file_extension": ".py",
   "mimetype": "text/x-python",
   "name": "python",
   "nbconvert_exporter": "python",
   "pygments_lexer": "ipython3",
   "version": "3.6.9"
  }
 },
 "nbformat": 4,
 "nbformat_minor": 5
}
